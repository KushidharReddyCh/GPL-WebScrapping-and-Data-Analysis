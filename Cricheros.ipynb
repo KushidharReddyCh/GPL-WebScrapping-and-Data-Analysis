{
 "cells": [
  {
   "cell_type": "markdown",
   "id": "b84036f3",
   "metadata": {},
   "source": [
    "# PART1 : SCRAPPING"
   ]
  },
  {
   "cell_type": "code",
   "execution_count": null,
   "id": "08e33a3d",
   "metadata": {},
   "outputs": [],
   "source": [
    "{\n",
    "    \"rohit jr\":\"119EC0873\",\n",
    "    \"abcd\":\"12323\",\n",
    "}"
   ]
  },
  {
   "cell_type": "code",
   "execution_count": 13,
   "id": "171392a2",
   "metadata": {},
   "outputs": [],
   "source": [
    "# url needs to be scrapped:\n",
    "# https://cricheroes.in/scorecard/6213756/Gpl-XIII/Gultie-Mighty-Eagles-vs-Gultie-Lion-Kings/commentary"
   ]
  },
  {
   "cell_type": "code",
   "execution_count": 1,
   "id": "f6630734",
   "metadata": {},
   "outputs": [],
   "source": [
    "# # player stats\n",
    "# {\n",
    "#     \"player name\":\"\",\n",
    "#     \"player team\":\"\",\n",
    "#     \"unique id\":\"119EC0873\",\n",
    "#     \"roll number\":\"\",\n",
    "#     \"isCaptain\":\"\",\n",
    "#     \"isViceCaptain\":\"\",\n",
    "#     \"isWicketKeeper\":\"\",\n",
    "#     \"Role\":\"\",\n",
    "#     \"Batting Style\":\"\",\n",
    "#     \"Bowling Style\":\"\",\n",
    "#     \"Height\":\"\",\n",
    "#     \"Weight\":\"\",\n",
    "#     \"date-of-birth\":\"\",\n",
    "# }"
   ]
  },
  {
   "cell_type": "code",
   "execution_count": 24,
   "id": "f3084485",
   "metadata": {},
   "outputs": [
    {
     "name": "stdout",
     "output_type": "stream",
     "text": [
      "#task2 :  over by over stats\n",
      "{\n",
      "    \"over no\":\"\",\n",
      "    \"total score\":{\n",
      "        \"runs\":\"\",\n",
      "        \"wickets\":\"\",\n",
      "    },\n",
      "    \"over status\":{\n",
      "        \"runs\":\"\",\n",
      "        \"wickets\":\"\",\n",
      "    }\n",
      "}\n"
     ]
    }
   ],
   "source": [
    "#task2 :  over by over stats : \n",
    "# Yoshith\n",
    "{\n",
    "    \"over no\":\"\",\n",
    "    \"total score\":{\n",
    "        \"runs\":\"\",\n",
    "        \"wickets\":\"\",\n",
    "    },\n",
    "    \"over status\":{\n",
    "        \"runs\":\"\",\n",
    "        \"wickets\":\"\",\n",
    "    }\n",
    "}"
   ]
  },
  {
   "cell_type": "code",
   "execution_count": 23,
   "id": "fac601bf",
   "metadata": {},
   "outputs": [
    {
     "name": "stdout",
     "output_type": "stream",
     "text": [
      "# ball by ball status\n",
      "{\n",
      "    \"id\":\"\",\n",
      "    \"bataman name\":\"\",\n",
      "    \"bowler name\":\"\",\n",
      "    \"over.ball\":\"\",\n",
      "    \"status\":\"\",\n",
      "    \"others\":{\n",
      "        \"shot type\":\"\",\n",
      "        \"shot area\":\"\",\n",
      "    },\n",
      "    \"dismissal\":{\n",
      "        \"dismissal batsman\":\"\",\n",
      "        \"catch\":\"\",\n",
      "        \"run out by\":\"\",\n",
      "        \"bowled\":\"\",\n",
      "        \"stump by\":\"\",\n",
      "        \"hit wicket\":\"\",\n",
      "    }\n",
      "    \n",
      "}\n",
      "# others : wickect + runs ,wd + runs,wd+runs+wicket,nb+runout,\n"
     ]
    }
   ],
   "source": [
    "# ball by ball status\n",
    "# rakesh\n",
    "[{\n",
    "    \"over.ball\":\"1.1\",\n",
    "    \"id\":\"2\",\n",
    "    \"batsman name\":\"\",\n",
    "    \"bowler name\":\"\",\n",
    "    \"status\":\"Wt,1,2,3\",\n",
    "    \"others\":{\n",
    "        \"shot type\":\"\",\n",
    "        \"shot area\":\"\",\n",
    "    },\n",
    "    \"dismissal\":{\n",
    "        \"is Out\":\"\"\n",
    "        \"dismissal batsman\":\"\",\n",
    "        \"catch\":\"\",\n",
    "        \"run out by\":\"\",\n",
    "        \"bowled\":\"\",\n",
    "        \"stump by\":\"\",\n",
    "        \"hit wicket\":\"\",\n",
    "    }\n",
    "    \n",
    "},...]\n",
    "# others : wickect + runs ,wd + runs,wd+runs+wicket,nb+runout,"
   ]
  },
  {
   "cell_type": "code",
   "execution_count": 21,
   "id": "c55aa053",
   "metadata": {},
   "outputs": [
    {
     "name": "stdout",
     "output_type": "stream",
     "text": [
      "# task3 : over by over bowler stats\n",
      "{\n",
      "    \"over no\":\"\",\n",
      "    \"bowler name\":{\n",
      "        \"runs \":\"\",\n",
      "        \"dot balls\":\"\",\n",
      "        \"wickets\":\"\",\n",
      "    }\n",
      "}\n"
     ]
    }
   ],
   "source": [
    "# task3 : over by over bowler stats\n",
    "# deekishta\n",
    "{\n",
    "    \"over no\":\"\",\n",
    "    \"bowler name\":{\n",
    "        \"runs \":\"\",\n",
    "        \"dot balls\":\"\",\n",
    "        \"wickets\":\"\",\n",
    "    }\n",
    "}"
   ]
  },
  {
   "cell_type": "code",
   "execution_count": 20,
   "id": "c881f025",
   "metadata": {},
   "outputs": [
    {
     "name": "stdout",
     "output_type": "stream",
     "text": [
      "# task4 : score card:\n",
      "{\n",
      "    \"match no\":\"\",\n",
      "    \"1st innings battting side\":{\n",
      "        [{\n",
      "            \"batsman id\":\"\",\n",
      "            \"batsman name\":\"\",\n",
      "            \"runs\":\"\",\n",
      "            \"balls\":\"\",\n",
      "            \"ones\":\"\",\n",
      "            \"twos\":\"\",\n",
      "            \"threes\":\"\",\n",
      "            \"fours\":\"\",\n",
      "            \"fives\":\"\",\n",
      "            \"sixes\":\"\",\n",
      "            \"out status\":{\n",
      "                \"is out\":\"\",\n",
      "                \"caught by\":\"\",\n",
      "                \"run out by\":\"\",\n",
      "                \"bowling\":\"\",\n",
      "                \"out type\":\"\",\n",
      "                \"out area\":\"\",\n",
      "                \"out time overs.ball:\":\"\",\n",
      "            }\n",
      "        },]\n",
      "    },\n",
      "    \"same for 2nd innings batting side\":\"\",\n",
      "    \"1st innings bowling side\":{\n",
      "        [{\n",
      "            \"bowler id\":\"\",\n",
      "            \"bowler name\":\"\",\n",
      "            \"runs\":\"\",\n",
      "            \"dot balls\":\"\",\n",
      "            \"maidens\":\"\",\n",
      "            \"wickets\":{\n",
      "                \"number of wickets\":\"\",\n",
      "                \"all dismissals\":[{\n",
      "                    \"batsman name\":\"\",\n",
      "                    \"overs.ball\":\"\",\n",
      "                }\n",
      "                    ,...]\n",
      "            },\n",
      "        },...]\n",
      "    },\n",
      "    \"same for 2nd innings bowling side\":\"\",\n",
      "}\n"
     ]
    }
   ],
   "source": [
    "# task4 : score card:\n",
    "# bhargav and veeresh \n",
    "{\n",
    "    \"match no\":\"\",\n",
    "    \"1st innings battting side\":{\n",
    "        [{\n",
    "            \"batsman id\":\"\",\n",
    "            \"batsman name\":\"\",\n",
    "            \"runs\":\"\",\n",
    "            \"balls\":\"\",\n",
    "            \"ones\":\"\",\n",
    "            \"twos\":\"\",\n",
    "            \"threes\":\"\",\n",
    "            \"fours\":\"\",\n",
    "            \"fives\":\"\",\n",
    "            \"sixes\":\"\",\n",
    "            \"out status\":{\n",
    "                \"is out\":\"\",\n",
    "                \"caught by\":\"\",\n",
    "                \"run out by\":\"\",\n",
    "                \"bowling\":\"\",\n",
    "                \"out type\":\"\",\n",
    "                \"out area\":\"\",\n",
    "                \"out time overs.ball:\":\"\",\n",
    "            }\n",
    "        },]\n",
    "    },\n",
    "    \"same for 2nd innings batting side\":\"\",\n",
    "    \"1st innings bowling side\":{\n",
    "        [{\n",
    "            \"bowler id\":\"\",\n",
    "            \"bowler name\":\"\",\n",
    "            \"runs\":\"\",\n",
    "            \"dot balls\":\"\",\n",
    "            \"maidens\":\"\",\n",
    "            \"wickets\":{\n",
    "                \"number of wickets\":\"\",\n",
    "                \"all dismissals\":[{\n",
    "                    \"batsman name\":\"\",\n",
    "                    \"overs.ball\":\"\",\n",
    "                }\n",
    "                    ,...]\n",
    "            },\n",
    "        },...]\n",
    "    },\n",
    "    \"same for 2nd innings bowling side\":\"\",\n",
    "}"
   ]
  },
  {
   "cell_type": "code",
   "execution_count": 36,
   "id": "159b7091",
   "metadata": {},
   "outputs": [
    {
     "data": {
      "text/plain": [
       "{'player of the match': {'player name': '',\n",
       "  'player id': '',\n",
       "  'team name': '',\n",
       "  'batting stats': {}}}"
      ]
     },
     "execution_count": 36,
     "metadata": {},
     "output_type": "execute_result"
    }
   ],
   "source": [
    "# cric heros for eatch match\n",
    "# player of the match\n",
    "# jaysree\n",
    "{\n",
    "    \"player of the match\":{\n",
    "    \"player name\":\"\",\n",
    "    \"player id\":\"\",\n",
    "    \"team name\":\"\",\n",
    "    \"batting stats\":{\n",
    "        \"runs\":\"\",\n",
    "        \"balls\":\"\",\n",
    "        \"sixes\":\"\",\n",
    "        \"fours\":\"\",\n",
    "        \"strike rate\":\"\",\n",
    "    },\n",
    "    \"bowling stas\":{\n",
    "        \"bowler name\":\"\",\n",
    "        \"player id\":\"\",\n",
    "        \"team name\":\"\",\n",
    "        \"runs\":\"\",\n",
    "        \"maidens\":\"\",\n",
    "        \"ecomony\":\"\",\n",
    "        \"overs\":\"\",\n",
    "    }\n",
    "}\n",
    "}\n",
    "# best batsman\n",
    "{\n",
    "    \"player name\":\"\",\n",
    "    \"player id\":\"\",\n",
    "    \"team name\":\"\",\n",
    "    \"batting stats\":{\n",
    "        \"runs\":\"\",\n",
    "        \"balls\":\"\",\n",
    "        \"sixes\":\"\",\n",
    "        \"fours\":\"\",\n",
    "        \"strike rate\":\"\",\n",
    "    },\n",
    "}\n",
    "\n",
    "# best bowler\n",
    "{\n",
    "    \"bowling stas\":{\n",
    "        \"bowler name\":\"\",\n",
    "        \"player id\":\"\",\n",
    "        \"team name\":\"\",\n",
    "        \"runs\":\"\",\n",
    "        \"maidens\":\"\",\n",
    "        \"ecomony\":\"\",\n",
    "        \"overs\":\"\",\n",
    "    }\n",
    "}"
   ]
  },
  {
   "cell_type": "code",
   "execution_count": 37,
   "id": "daa23c31",
   "metadata": {},
   "outputs": [
    {
     "data": {
      "text/plain": [
       "{'match date': '',\n",
       " 'location': '',\n",
       " '1st innings time in minutes': '',\n",
       " 'start time of 1st innings': '',\n",
       " 'end time of 1st innings': '',\n",
       " '2nd innings time in minutes': '',\n",
       " 'start time of 2nd  innings': '',\n",
       " 'end time of 2nd innings': ''}"
      ]
     },
     "execution_count": 37,
     "metadata": {},
     "output_type": "execute_result"
    }
   ],
   "source": [
    "# match details:\n",
    "# jayanth\n",
    "{\n",
    "    \"match date\":\"\",\n",
    "    \"location\":\"\",\n",
    "    \"1st innings time in minutes\":\"\",\n",
    "    \"start time of 1st innings\":\"\",\n",
    "    \"end time of 1st innings\":\"\",\n",
    "    \"2nd innings time in minutes\":\"\",\n",
    "    \"start time of 2nd  innings\":\"\",\n",
    "    \"end time of 2nd innings\":\"\",\n",
    "    \"innings break\":\"\"\n",
    "}"
   ]
  },
  {
   "cell_type": "code",
   "execution_count": null,
   "id": "a92321b6",
   "metadata": {},
   "outputs": [],
   "source": [
    "#  match notes??"
   ]
  },
  {
   "cell_type": "markdown",
   "id": "bf1859a6",
   "metadata": {},
   "source": [
    "# PART 2 : ANALYSIS "
   ]
  },
  {
   "cell_type": "code",
   "execution_count": 28,
   "id": "ce85faa7",
   "metadata": {},
   "outputs": [],
   "source": [
    "# insight 1 : orange cap\n",
    "# top 3 players\n",
    "{\n",
    "    \"player 1\":{\n",
    "    \"batsman name\":\"\",\n",
    "    \"team name\":\"\",\n",
    "    \"matches played\":\"\",\n",
    "    \"innnings\":\"\",\n",
    "    \"not outs\":\"\",\n",
    "    \"runs\":\"\",\n",
    "    \"highest score\":\"\",\n",
    "    \"average\":\"\",\n",
    "    \"Balls faced\":\"\",\n",
    "    \"strike rate\":\"\",\n",
    "    \"100s\":\"\",\n",
    "    \"50s\":\"\",\n",
    "    \"30s\":\"\",\n",
    "    \"4s\":\"\",\n",
    "    \"6s\":\"\",    \n",
    "}}"
   ]
  },
  {
   "cell_type": "code",
   "execution_count": 30,
   "id": "486cea61",
   "metadata": {},
   "outputs": [
    {
     "data": {
      "text/plain": [
       "{'most fours': {'batsman name': '', 'no of fours': ''},\n",
       " 'most sixes': {'batsmam name': '', 'no of sixes': ''},\n",
       " 'most fours in an innings': {'batsman name': '', 'no of fours': ''}}"
      ]
     },
     "execution_count": 30,
     "metadata": {},
     "output_type": "execute_result"
    }
   ],
   "source": [
    "# others\n",
    "# fastest fifty,hundred??\n",
    "{\n",
    "    \"most fours\":{\n",
    "        \"batsman name\":\"\",\n",
    "        \"team name\":\"\",\n",
    "        \"no of fours\":\"\",\n",
    "    },\n",
    "    \"most sixes\":{\n",
    "        \"batsmam name\":\"\",\n",
    "        \"team name\":\"\",\n",
    "        \"no of sixes\":\"\",\n",
    "    },\n",
    "    \"most fours in an innings\":{\n",
    "        \"batsman name\":\"\",\n",
    "        \"no of fours\":\"\",\n",
    "        \"team name\":\"\",\n",
    "        \"aganist\":\"\",\n",
    "        \"match date\":\"\",\n",
    "        \"venue\":\"\"\n",
    "    },\n",
    "    \"most sixes in an innings\":{\n",
    "        \"batsman name\":\"\",\n",
    "        \"no of sixes\":\"\",\n",
    "        \"team name\":\"\",\n",
    "        \"aganist\":\"\",\n",
    "        \"match date\":\"\",\n",
    "        \"venue\":\"\"\n",
    "    },\n",
    "    \"most fiftes\":{\n",
    "        \"batsman name\":\"\",\n",
    "        \"team name\":\"\",\n",
    "        \"no of fiftes\":\"\"\n",
    "    },\n",
    "    \"most centuries\":{\n",
    "        \"batsman name\":\"\",\n",
    "        \"team name\":\"\",\n",
    "        \"no of centuries\":\"\"\n",
    "    },\n",
    "    \"fastest fifty\":{\n",
    "        \"batsman name\":\"\",\n",
    "        \"team name\":\"\",\n",
    "        \"no of balls faced to hit fifty\":\"\",\n",
    "        \"aganist team\":\"\",\n",
    "        \"date\":\"\",\n",
    "        \"time\":\"\",\n",
    "    },\n",
    "    \"highest score\":{\n",
    "        \"batsman name\":\"\",\n",
    "        \"team name\":\"\",\n",
    "        \"score\":\"\",\n",
    "        \"aganist\":\"\",\n",
    "    },\n",
    "    \"best batting strike rate\":{\n",
    "        \"batsman name\":\"\",\n",
    "        \"team name\":\"\",\n",
    "        \"SR\":\"\"\n",
    "    },\n",
    "    \"best batting strike rate in an innings\":{\n",
    "        \"batsman name\":\"\",\n",
    "        \"team name\":\"\",\n",
    "        \"SR\":\"\",\n",
    "        \"aganist\":\"\",\n",
    "        \"time\":\"\",\n",
    "        \"date\":\"\",\n",
    "    },\n",
    "    \"best batting averages\":{\n",
    "        \"batsman name\":\"\",\n",
    "        \"average\":\"\"\n",
    "        \"team name\":\"\",\n",
    "    }\n",
    "}"
   ]
  },
  {
   "cell_type": "code",
   "execution_count": 31,
   "id": "a188c8db",
   "metadata": {},
   "outputs": [
    {
     "data": {
      "text/plain": [
       "{'bowler name': '',\n",
       " 'matches played': '',\n",
       " 'innings played': '',\n",
       " 'total overs': '',\n",
       " 'toatl runs': '',\n",
       " 'total wickets': '',\n",
       " 'Best bowling in an innings': '',\n",
       " 'average': '',\n",
       " 'ecomony': '',\n",
       " 'SR': '',\n",
       " '4s': '',\n",
       " '4w': '',\n",
       " '5w': ''}"
      ]
     },
     "execution_count": 31,
     "metadata": {},
     "output_type": "execute_result"
    }
   ],
   "source": [
    "# Purple cap\n",
    "# top 3 most wickets\n",
    "{\n",
    "    \"bowler name\":\"\",\n",
    "    \"matches played\":\"\",\n",
    "    \"innings played\":\"\",\n",
    "    \"total overs\":\"\",\n",
    "    \"toatl runs\":\"\",\n",
    "    \"total wickets\":\"\",\n",
    "    \"Best bowling in an innings\":\"\",\n",
    "    \"average\":\"\",\n",
    "    \"ecomony\":\"\",\n",
    "    \"SR\":\"\",\n",
    "    \"4s\":\"\",\n",
    "    \"4w\":\"\",\n",
    "    \"5w\":\"\"\n",
    "}"
   ]
  },
  {
   "cell_type": "code",
   "execution_count": 32,
   "id": "be404079",
   "metadata": {},
   "outputs": [],
   "source": [
    "# most maidens\n",
    "# most dot balls\n",
    "# most dot balls in an innings\n",
    "# best bowling average\n",
    "# best bowling economy\n",
    "# best bowling economy innings\n",
    "# best strike rate\n",
    "# best bowling strike rate in an innings\n",
    "# best bowling figures\n",
    "# most runs conceded(innings)\n",
    "# hatricks"
   ]
  },
  {
   "cell_type": "code",
   "execution_count": 38,
   "id": "597751b7",
   "metadata": {},
   "outputs": [],
   "source": [
    "# most player of the match \n",
    "# most best batsman\n",
    "# most best bowler "
   ]
  }
 ],
 "metadata": {
  "kernelspec": {
   "display_name": "Python 3",
   "language": "python",
   "name": "python3"
  },
  "language_info": {
   "codemirror_mode": {
    "name": "ipython",
    "version": 3
   },
   "file_extension": ".py",
   "mimetype": "text/x-python",
   "name": "python",
   "nbconvert_exporter": "python",
   "pygments_lexer": "ipython3",
   "version": "3.8.8"
  }
 },
 "nbformat": 4,
 "nbformat_minor": 5
}
